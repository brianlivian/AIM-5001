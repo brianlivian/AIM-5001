{
  "nbformat": 4,
  "nbformat_minor": 0,
  "metadata": {
    "colab": {
      "name": "m_amsellem_FinalProjectProposal.ipynb",
      "provenance": [],
      "collapsed_sections": []
    },
    "kernelspec": {
      "name": "python3",
      "display_name": "Python 3"
    },
    "language_info": {
      "name": "python"
    }
  },
  "cells": [
    {
      "cell_type": "markdown",
      "metadata": {
        "id": "BfFFFfbUEPe4"
      },
      "source": [
        "# **Final Project Proposal**\n",
        " \n",
        " Eliyahou  Amsellem, Mazal-tov Amsellem, and Brian Livian\n"
      ]
    },
    {
      "cell_type": "markdown",
      "metadata": {
        "id": "IXr1UK1K6TKa"
      },
      "source": [
        "# **Introduction**\n",
        " \n",
        "Social media has influenced markets in a very transparent way this past decade. These impacts have been noticed specifically with increases or decreases to certain stocks or indexes via Twitter, Instagram, or even YouTube. Most notably, Elon Musk, the world’s current richest man alive, has more recently been influencing markets and his company’s stock price. Elon Musk has been influencing the markets since his first ventures with Zip2 and PayPal. Instead of solely creating new companies and developing new software to impact markets, Musk has used social media platforms which affected global perception and real-time stock values of TESLA and Dogecoin among others. It is hard to believe that one person’s tweets can impact the world, but how we live is very much driven by social media. The extent of his influence has on occasion received notice from the SEC.\n",
        " \n",
        "Musk shared his first tweet in 2010 by making a simple joke. On February 28, 2020 he tweeted “too high” implying that the TESLA stock was too high, which later drove the TESLA stock price down by 12% that day. Another occurrence of Musk’s stock-boosting tweets happened on January 7th of 2021 when he tweeted “Use Signal”, and then Signal Advance stock price tripled in value at closing that day. This never before happened to the company that was generally trading at 60 cents. Comically, Musk was not even referring to the Signal Advance company, rather he was referring to a messaging non-profit app called Signal. From these instances and many others, we can conclude that Musk has quantifiably impacted markets. Musk and many other social media influencers will be continuously moving markets as we progress to a more digital informative environment.\n",
        " \n",
        "In this project we hope to further explore the impact of social media influencers on the stock market."
      ]
    },
    {
      "cell_type": "markdown",
      "metadata": {
        "id": "vdl6GarG6beo"
      },
      "source": [
        "\n",
        "# **Research Questions**\n",
        " \n",
        "We hope to explore this larger topic of social media influence on the market by utilizing stock market and social media data to quantify the potential impacts.\n",
        " \n",
        ">1. \tIs there a substantial increase in volatility of the S&P500, NDXT and TSLA associated with each tweet (*with key words and general tweets*) shared by Elon Musk?\n",
        "\n",
        ">2. \tIs there positive correlation between the NDXT, S&P500, or TSLA value and Elon Musk’s tweets?\n",
        ">3. \tDo the tweets' macro effects retain influence on the stock prices or indexes on average for over a month?\n",
        " \n",
        "If the quantified metrics such as correlation and percentage change present themselves to be significant (above average changes), we can utilize this insight to make strategic intraday trades. These metrics would prove to be market movers that should be monitored. When influencers that may pertain to markets are watched in real-time investors can hedge the newly proven \"social media\" risks to investments in markets. The impact tweets and other social media posting can have would become as significant to traders in this regard as quarterly financial publications. This insight will prove to be helpful for future trade decisions and executions. "
      ]
    },
    {
      "cell_type": "markdown",
      "metadata": {
        "id": "UjzER3jg6xeZ"
      },
      "source": [
        "# **Data to be used**\n",
        "\n",
        "Social media data used for this project will be sourced from Twitter. The twitter influencer subject of this study will be Elon Musk. Every single Elon Musk tweet since 2010 will be extracted. This will capture all his tweets since he joined twitter in 2010. The method we will use to collect this data is via web scraping. Though Twitter has APIs for users we will not be able to leverage the capability due to the limitations of pulls and history that can be extracted. To manage web scraping from twitter we will leverage the Twint python library. \n",
        "\n",
        "The market data for the S&P and NDXT indexes and TSLA will be sourced from Yahoo finance. The downloadable csv files offered by Yahoo contain necessary historical data to be analyzed. The reasoning behind utilizing these indexes and not only an individual stock such as the tesla stock or dogecoin is to allow this data analysis to not only focusing on isolated cases when musk specifically mentioned Tesla, Dogecoin, or any other traded asset. It is clearly apparent that when Tesla is mentioned Tesla can change in price. Our questions are specifically regarding how the market moves and the Tech sector for example can be influenced by a social media presence. \n",
        "\n",
        "**Links to data sources and libraries:**\n",
        " \n",
        "*   **Twitter Elon Musk:**https://twitter.com/elonmusk\n",
        "*   **Twintfor Twitter:** https://pypi.org/project/twint/\n",
        "*   **Yahoo Finance S&P:** https://finance.yahoo.com/quote/%5EGSPC/options?p=%5EGSPC\n",
        "*   **Yahoo Finance NDXT:** https://finance.yahoo.com/quote/%5ENDXT/history?p=%5ENDXT\n",
        "*   **Yahoo Finance TSLA:** https://finance.yahoo.com/quote/TSLA/history/\n",
        "\n",
        "\n",
        "\n",
        "\n",
        "\n"
      ]
    },
    {
      "cell_type": "markdown",
      "metadata": {
        "id": "pKIBPkR-675e"
      },
      "source": [
        "\n",
        "# **Approach**\n",
        "\n",
        "The social media data from twitter will be loaded into a GitHub repository. This will provide flexibility for storing the data in different formats such as json or html. The Yahoo Finance data will be loaded into a PostgreSQL database. To easily be able to connect to this database it will be hosted on an AWS server. This will allow connections to the database easily through a google Colab notebook or a local Jupyter notebook. \n",
        "\n",
        "Prior to running the statistical analysis there will be an Exploratory Data Analysis performed to understand the data attributes. If any data is missing or if there are data quality issues they will be resolved or managed. Reasoning will be provided for each approach to resolve data issues or missing data. \n",
        "\n",
        "Graphs that will be used to analyze the data are bar graphs, histograms, and scatterplots. Additional graphs pertaining to financial markets such as time-series graphs will be used so we can we visualize market changes overtime with number of tweets from Musk. \n",
        "\n",
        "To explore the first research question, the ROR (rate of return) of both indexes for a given day, week, and month will be calculated. The ROR will be calculated by using the classic logarithmic return formula. By normalizing both sets of equity data, the RORs will be suitable for comparisons and adequate computations. With the normalized equity data, the variance of the daily RORs can be analyzed. The magnitude of variation inflicted onto the equity data based on the tweet will be measured. By analyzing the surges in volatility, we can deduce if the tweets are culpable.\n",
        "\n",
        "A Chi Squared test of independence will be conducted to approach the second research question. This will be a statistical measure of correlation between our equity data and the indicator variable derived from time frames of tweets. Along with other correlation metrics we will infer whether we can associate a positive correlation between the indexes and the tweets. \n",
        "\n",
        "For the third research question an analysis based on a month's basis of data along with moving average metrics will be conducted to portray the tweets' effects. While analyzing the equity's temporal data on a monthly timeframe we can utilize different moving averages to extrapolate the long-term effects of the tweets directly to the indexes and stock. \n",
        "\n",
        "Additional analysis methods to be used are correlation, and cross correlation between the time series and the tweets. By assigning indicators for periods when tweets were made the correlation between the equity data's ROR and the tweet can be measured. The cross correlation will be between the time series for S&P500, NDXT, and TSLA to measure their aligned movement. "
      ]
    },
    {
      "cell_type": "markdown",
      "metadata": {
        "id": "Uj4vZQtXRaDw"
      },
      "source": [
        "# ***Roles & Responsibilities***\n",
        "\n",
        "***Brian*** - Creating the GitHub Repository, portion of EDA, identifying the attributes to extract from Twitter, web scraping the Twitter site, loading the data into the GitHub repository in the proper form for analysis. \n",
        "\n",
        "***Mazal-tov*** -  Setting up the AWS server, the PostgreSQL database, data model, portion of EDA, portion of handling missing data, creating attributes needed for analysis, and portion of statistical analysis\n",
        "\n",
        "***Eliyahou*** - Researching statistical python methods to answer research questions, statistical data analysis, portion of handling missing data and data normalization, portion of the EDA analysis. "
      ]
    }
  ]
}