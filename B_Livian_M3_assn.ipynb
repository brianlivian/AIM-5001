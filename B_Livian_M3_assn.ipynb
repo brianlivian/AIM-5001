{
 "cells": [
  {
   "cell_type": "code",
   "execution_count": 17,
   "metadata": {},
   "outputs": [
    {
     "name": "stdout",
     "output_type": "stream",
     "text": [
      "['high', 'high', 'high', 'high', 'vhigh', 'low', 'med', 'low', 'vhigh', 'vhigh', 'low', 'vhigh', 'high', 'low', 'high', 'vhigh', 'med', 'high', 'low', 'low', 'med', 'low', 'vhigh', 'med', 'low', 'vhigh', 'med', 'high', 'low', 'med', 'high', 'high', 'low', 'vhigh', 'high']\n",
      "['high', 'high', 'high', 'low', 'low', 'high', 'med', 'low', 'low', 'high', 'low', 'low', 'low', 'vhigh', 'low', 'high', 'med', 'low', 'low', 'low', 'high', 'low', 'high', 'vhigh', 'vhigh', 'low', 'vhigh', 'high', 'high', 'high', 'low', 'vhigh', 'low', 'vhigh', 'low']\n",
      "['2', '4', '4', '2', '3', '2', '4', '3', '2', '4', '2', '4', '2', '3', '5more', '2', '2', '5more', '3', '2', '4', '2', '5more', '2', '4', '3', '3', '3', '5more', '5more', '3', '5more', '5more', '4', '3']\n",
      "['4', 'more', 'more', 'more', '2', '2', 'more', '2', '2', '4', '2', 'more', '4', 'more', '2', 'more', '2', '4', 'more', '2', '2', '2', '4', '2', '4', 'more', '4', '4', '2', '2', '4', '4', '2', '2', '2']\n",
      "['med', 'small', 'big', 'big', 'med', 'small', 'med', 'big', 'small', 'med', 'med', 'small', 'big', 'big', 'big', 'med', 'small', 'med', 'med', 'big', 'big', 'small', 'med', 'big', 'big', 'big', 'small', 'med', 'big', 'med', 'med', 'med', 'med', 'big', 'big']\n",
      "['low', 'high', 'low', 'high', 'med', 'low', 'high', 'med', 'low', 'low', 'med', 'high', 'med', 'low', 'med', 'high', 'low', 'high', 'high', 'med', 'high', 'high', 'med', 'low', 'low', 'low', 'low', 'med', 'low', 'med', 'high', 'med', 'low', 'high', 'high']\n",
      "['unacc', 'acc', 'unacc', 'acc', 'unacc', 'unacc', 'vgood', 'unacc', 'unacc', 'unacc', 'unacc', 'acc', 'acc', 'unacc', 'unacc', 'unacc', 'unacc', 'acc', 'vgood', 'unacc', 'unacc', 'unacc', 'unacc', 'unacc', 'unacc', 'unacc', 'unacc', 'unacc', 'unacc', 'unacc', 'acc', 'unacc', 'unacc', 'unacc', 'unacc']\n"
     ]
    }
   ],
   "source": [
    "price_list = []\n",
    "maint_list = []\n",
    "doors_list = []\n",
    "pass_list = []\n",
    "lugg_list = []\n",
    "safety_list = []\n",
    "class_list = []\n",
    "\n",
    "import csv \n",
    "with open(r\"C:\\Users\\Brian\\Documents\\Data Acquisition and Managment\\cars-sample35.txt\") as csvfile: \n",
    "    readCSV = csv.reader(csvfile) \n",
    "    #iterate for each row to append each individual list each their respective element 0-6\n",
    "    for row in readCSV: \n",
    "        price_list.append(row[0])\n",
    "        maint_list.append(row[1])\n",
    "        doors_list.append(row[2])\n",
    "        pass_list.append(row[3])\n",
    "        lugg_list.append(row[4])\n",
    "        safety_list.append(row[5])\n",
    "        class_list.append(row[6])\n",
    "    print(price_list)\n",
    "    print(maint_list)\n",
    "    print(doors_list)\n",
    "    print(pass_list)\n",
    "    print(lugg_list)\n",
    "    print(safety_list)\n",
    "    print(class_list)\n",
    "    \n",
    "        "
   ]
  },
  {
   "cell_type": "code",
   "execution_count": 15,
   "metadata": {},
   "outputs": [
    {
     "name": "stdout",
     "output_type": "stream",
     "text": [
      "[6, 16, 20, 23, 26, 29]\n"
     ]
    }
   ],
   "source": [
    "med_list = []\n",
    "count = 0\n",
    "for i in price_list:\n",
    "    if i == 'med':\n",
    "        med_list.append(count)\n",
    "    count = count + 1\n",
    "print(med_list)\n",
    "\n",
    "\n",
    "#For every element in price_list, if the element is 'med', record the index of the element by use of the count variable\n",
    "        "
   ]
  },
  {
   "cell_type": "code",
   "execution_count": 5,
   "metadata": {},
   "outputs": [
    {
     "name": "stdout",
     "output_type": "stream",
     "text": [
      "['more', '2', '2', '2', '4', '2']\n"
     ]
    }
   ],
   "source": [
    "pass_list2 = []\n",
    "for x in med_list:\n",
    "    pass_list2.append(pass_list[x])\n",
    "print(pass_list2)\n",
    "\n",
    "# for every element in med_list, append pass_list2 to equal the number of passangers for that specific element.\n"
   ]
  },
  {
   "cell_type": "code",
   "execution_count": 6,
   "metadata": {
    "scrolled": true
   },
   "outputs": [
    {
     "name": "stdout",
     "output_type": "stream",
     "text": [
      "[0, 1, 2, 27, 31]\n"
     ]
    }
   ],
   "source": [
    "phmnl_list = []\n",
    "count = 0\n",
    "for x, y in zip(price_list, maint_list):\n",
    "    if x == 'high' and y != 'low':\n",
    "        phmnl_list.append(count)\n",
    "    count = count + 1\n",
    "print(phmnl_list)\n",
    "\n",
    "#zip is a function I found online which connects the indexes of 2 lists. I could've solved this as a nested for loop but i found this to be easier\n",
    "#https://medium.com/better-programming/how-to-iterate-over-two-or-more-lists-at-the-same-time-5f70b5c822ad\n",
    "#For every pair of elements (x,y) in price_list and maint_list, if conditions are satisfied, record the index of the pair of elements by use of count variable"
   ]
  },
  {
   "cell_type": "code",
   "execution_count": 18,
   "metadata": {},
   "outputs": [
    {
     "name": "stdout",
     "output_type": "stream",
     "text": [
      "0\n",
      "1\n",
      "2\n",
      "3\n",
      "4\n",
      "5\n",
      "6\n",
      "7\n",
      "8\n",
      "9\n",
      "10\n",
      "11\n",
      "12\n",
      "13\n",
      "14\n",
      "15\n",
      "16\n",
      "17\n",
      "18\n",
      "19\n",
      "20\n",
      "21\n",
      "22\n",
      "23\n",
      "24\n",
      "25\n",
      "26\n",
      "27\n",
      "28\n",
      "29\n",
      "30\n",
      "31\n",
      "32\n",
      "33\n",
      "34\n"
     ]
    }
   ],
   "source": [
    "\n",
    "\n",
    "import csv \n",
    "\n",
    "class CarData:\n",
    "    CarCount = 0\n",
    "\n",
    "    def __init__(self, price, maint, doors, passengers, lugg, safety, classification):\n",
    "        self.uniqueID = CarData.CarCount\n",
    "        self.price = price\n",
    "        self.maint = maint\n",
    "        self.doors = doors\n",
    "        self.passengers = passengers\n",
    "        self.lugg = lugg\n",
    "        self.safety = safety\n",
    "        self.classification = classification\n",
    "        \n",
    "        CarData.CarCount += 1\n",
    "\n",
    "# Testing Logic\n",
    "cars = []\n",
    "\n",
    "with open(r\"C:\\Users\\Brian\\Documents\\Data Acquisition and Managment\\cars-sample35.txt\") as csvfile:\n",
    "    readCSV = csv.reader(csvfile) \n",
    "    #iterate for each row to append each individual list each their respective element 0-6\n",
    "    for row in readCSV: \n",
    "        cars.append(CarData(row[0], row[1], row[2], row[3], row[4], row[5], row[6]))\n",
    "\n",
    "for car in cars:\n",
    "    print(car.uniqueID)"
   ]
  },
  {
   "cell_type": "code",
   "execution_count": 11,
   "metadata": {},
   "outputs": [
    {
     "name": "stdout",
     "output_type": "stream",
     "text": [
      "3\n",
      "12\n",
      "19\n",
      "23\n"
     ]
    }
   ],
   "source": [
    "\n",
    "import csv \n",
    "\n",
    "class CarData:\n",
    "    CarCount = 0\n",
    "\n",
    "    def __init__(self, price, maint, doors, passengers, lugg, safety, classification):\n",
    "        self.uniqueID = CarData.CarCount\n",
    "        self.price = price\n",
    "        self.maint = maint\n",
    "        self.doors = doors\n",
    "        self.passengers = passengers\n",
    "        self.lugg = lugg\n",
    "        self.safety = safety\n",
    "        self.classification = classification\n",
    "        \n",
    "        CarData.CarCount += 1\n",
    "\n",
    "\n",
    "cars = []\n",
    "\n",
    "with open(r\"C:\\Users\\Brian\\Documents\\Data Acquisition and Managment\\cars-sample35.txt\") as csvfile: \n",
    "    readCSV = csv.reader(csvfile) \n",
    "    #iterate for each row to append each individual list each their respective element 0-6\n",
    "    for row in readCSV: \n",
    "        cars.append(CarData(row[0], row[1], row[2], row[3], row[4], row[5], row[6]))\n",
    "\n",
    "for car in cars:\n",
    "    if car.doors == str(2) and car.lugg == \"big\":\n",
    "        print(car.uniqueID)"
   ]
  },
  {
   "cell_type": "code",
   "execution_count": null,
   "metadata": {},
   "outputs": [],
   "source": []
  },
  {
   "cell_type": "code",
   "execution_count": null,
   "metadata": {},
   "outputs": [],
   "source": []
  },
  {
   "cell_type": "code",
   "execution_count": null,
   "metadata": {},
   "outputs": [],
   "source": []
  }
 ],
 "metadata": {
  "kernelspec": {
   "display_name": "Python 3",
   "language": "python",
   "name": "python3"
  },
  "language_info": {
   "codemirror_mode": {
    "name": "ipython",
    "version": 3
   },
   "file_extension": ".py",
   "mimetype": "text/x-python",
   "name": "python",
   "nbconvert_exporter": "python",
   "pygments_lexer": "ipython3",
   "version": "3.8.5"
  }
 },
 "nbformat": 4,
 "nbformat_minor": 4
}
